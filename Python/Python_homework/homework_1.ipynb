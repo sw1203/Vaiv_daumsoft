{
 "cells": [
  {
   "cell_type": "markdown",
   "metadata": {},
   "source": [
    "# Python 과제1 - 복합명사 분해\n",
    "\n",
    "* [문제](http://pms.daumsoft.com/projects/ft-edu/wiki/Python_homework_1)"
   ]
  },
  {
   "cell_type": "code",
   "execution_count": 1,
   "metadata": {},
   "outputs": [
    {
     "name": "stdout",
     "output_type": "stream",
     "text": [
      "대+학생+선+교회\n",
      "대학+생+선+교회\n",
      "대학+생선+교회\n",
      "대학생+선+교회\n"
     ]
    }
   ],
   "source": [
    "from itertools import permutations\n",
    "\n",
    "\n",
    "def decompose_compound_noun(dic_path, text, option):\n",
    "    find_noun = []\n",
    "    answer = []\n",
    "    with open(dic_path, 'r', encoding=\"UTF-8\") as file:\n",
    "        nouns = [line.strip() for line in file.readlines()]\n",
    "\n",
    "    for begin in range(len(text)):\n",
    "        for end in range(begin, len(text)+1):\n",
    "            word = text[begin:end]\n",
    "            if word in nouns:\n",
    "                find_noun.append(word)\n",
    "\n",
    "    for num in range(len(find_noun), 0, -1):\n",
    "        my_permutation = permutations(find_noun, num)\n",
    "        for i in my_permutation:\n",
    "            if \"\".join(i) == text:\n",
    "                answer.append(\"+\".join(i))\n",
    "\n",
    "    if not answer:\n",
    "        print(\"fail\")\n",
    "    elif option == \"all\":\n",
    "        for i in answer:\n",
    "            print(i)\n",
    "    elif option == \"longest\":\n",
    "        print(answer[-1])\n",
    "    elif option == \"shortest\":\n",
    "        print(answer[0])\n",
    "    else:\n",
    "        print(\"존재하지 않는 옵션입니다.\")\n",
    "\n",
    "\n",
    "decompose_compound_noun(\"noun.txt\", \"대학생선교회\", \"all\")"
   ]
  }
 ],
 "metadata": {
  "kernelspec": {
   "display_name": "Python 3",
   "language": "python",
   "name": "python3"
  },
  "language_info": {
   "codemirror_mode": {
    "name": "ipython",
    "version": 3
   },
   "file_extension": ".py",
   "mimetype": "text/x-python",
   "name": "python",
   "nbconvert_exporter": "python",
   "pygments_lexer": "ipython3",
   "version": "3.8.3"
  }
 },
 "nbformat": 4,
 "nbformat_minor": 4
}
